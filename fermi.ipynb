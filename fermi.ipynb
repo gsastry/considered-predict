{
 "cells": [
  {
   "cell_type": "code",
   "execution_count": 2,
   "metadata": {
    "collapsed": true
   },
   "outputs": [
    {
     "name": "stdout",
     "output_type": "stream",
     "text": [
      "teslat\n"
     ]
    }
   ],
   "source": [
    "import os\n",
    "\n",
    "print('teslat')"
   ]
  },
  {
   "cell_type": "code",
   "execution_count": 16,
   "metadata": {},
   "outputs": [
    {
     "name": "stdout",
     "output_type": "stream",
     "text": [
      "[(53 + 53 > 35 ?, array(True, dtype=bool)), (53 == 50 ?, array(False, dtype=bool)), ((68 + 90) > 96 ?, array(True, dtype=bool)), (5 - 76 == 73 ?, array(False, dtype=bool)), (5 == 90 ?, array(False, dtype=bool)), ((23 * 47) == 82 ?, array(False, dtype=bool)), (11 < 39 ?, array(True, dtype=bool)), (42 + 10 < 37 ?, array(False, dtype=bool)), (5 * 2 > 33 ?, array(False, dtype=bool)), (54 > 4 ?, array(True, dtype=bool))]\n"
     ]
    }
   ],
   "source": [
    "from random import choice, random, sample\n",
    "import numpy as np\n",
    "import numexpr as ne\n",
    "\n",
    "# TODOs\n",
    "#   - better expressions (expression tree make it easier to get ground truth by evaluating)\n",
    "#   - store in a local db\n",
    "\n",
    "\n",
    "def gen_arithmetic_expressions(numbers, operators, num_exprs=10):\n",
    "    \"\"\"Generate an arithmetic expression\"\"\"\n",
    "    paren_prob = 0.25\n",
    "    operators_str = ['{{}} {op} {{}}'.format(op=op) for op in operators]\n",
    "    expressions = numbers[:]\n",
    "    \n",
    "    for _ in range(150):\n",
    "        expression = choice(operators_str).format(choice(expressions), choice(expressions))\n",
    "        if random() < paren_prob:\n",
    "            # wrap the expression in parentheses\n",
    "            expression = '({})'.format(expression)\n",
    "        expressions.append(expression)\n",
    "        \n",
    "    return sample(expressions, num_exprs)\n",
    "\n",
    "\n",
    "class ArithmeticQuestion:\n",
    "    def __init__(self, left, cmp, right):\n",
    "        self.left = left\n",
    "        self.cmp = cmp\n",
    "        self.right = right\n",
    "    \n",
    "    def evaluate(self):\n",
    "        expression = ''.join((self.left + self.cmp + self.right).split())\n",
    "        evaluated = ne.evaluate(expression)\n",
    "        return evaluated\n",
    "    \n",
    "    def __repr__(self):\n",
    "        return '{left} {cmp} {right} ?'.format(left=self.left, cmp=self.cmp, right=self.right)\n",
    "        \n",
    "\n",
    "def generate_questions(n):\n",
    "    \"\"\"Generate synthetic data\"\"\"\n",
    "    operators = ['*', '-', '+', '**']    # todo - add expr\n",
    "    numbers = list(map(str, range(100)))\n",
    "    \n",
    "    left_expressions = gen_arithmetic_expressions(numbers, operators, num_exprs=n)\n",
    "    right_expressions = sample(numbers, n)\n",
    "    \n",
    "    comparators = ['<', '>', '==']\n",
    "    generated_questions = [ArithmeticQuestion(left=left, cmp=sample(comparators, 1)[0], right=right) \n",
    "                           for (left, right) in list(zip(left_expressions, right_expressions))]\n",
    "    return generated_questions\n",
    "\n",
    "\n",
    "def generate_questions_and_labels(n):\n",
    "    return [(q, generate_label(q)) for q in generate_questions(n)]\n",
    "\n",
    "\n",
    "def generate_label(x):\n",
    "    if isinstance(x, ArithmeticQuestion):\n",
    "        return x.evaluate()\n",
    "\n",
    "questions_and_labels = generate_questions_and_labels(n=10)\n",
    "print(questions_and_labels)"
   ]
  }
 ],
 "metadata": {
  "kernelspec": {
   "display_name": "Python 2",
   "language": "python",
   "name": "python2"
  },
  "language_info": {
   "codemirror_mode": {
    "name": "ipython",
    "version": 2.0
   },
   "file_extension": ".py",
   "mimetype": "text/x-python",
   "name": "python",
   "nbconvert_exporter": "python",
   "pygments_lexer": "ipython2",
   "version": "2.7.6"
  }
 },
 "nbformat": 4,
 "nbformat_minor": 0
}